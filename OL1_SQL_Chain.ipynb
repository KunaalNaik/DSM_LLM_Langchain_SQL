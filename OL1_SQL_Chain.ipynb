{
 "cells": [
  {
   "cell_type": "markdown",
   "id": "5ecd9da4-91e6-42d7-af27-70cc1d9b9e63",
   "metadata": {},
   "source": [
    "# Code 1 - SQL Agent \n",
    "- Open API\n",
    "- Langchain\n",
    "- sqlite database"
   ]
  },
  {
   "cell_type": "markdown",
   "id": "24658580-d988-4b61-a443-47f93dd1f0ff",
   "metadata": {},
   "source": [
    "### Referances\n",
    "- sqlite (download portable package) https://sqlitebrowser.org/dl/"
   ]
  },
  {
   "cell_type": "markdown",
   "id": "eb64dff3-c8a8-4d14-af81-96ebb996acee",
   "metadata": {},
   "source": [
    "## Step 1 - Connect to Database"
   ]
  },
  {
   "cell_type": "markdown",
   "id": "1f399209-abaf-4fb4-9345-1da81bbc1f71",
   "metadata": {},
   "source": [
    "### Import Packages"
   ]
  },
  {
   "cell_type": "code",
   "execution_count": 1,
   "id": "abfbd480-f096-45d0-b1ba-c55412aeeac0",
   "metadata": {},
   "outputs": [],
   "source": [
    "from sqlite3 import connect\n",
    "from langchain_community.utilities.sql_database import SQLDatabase"
   ]
  },
  {
   "cell_type": "markdown",
   "id": "7a3b22f5-134b-4cde-93a9-a95416cbfebf",
   "metadata": {},
   "source": [
    "### Create Connection URL"
   ]
  },
  {
   "cell_type": "code",
   "execution_count": 2,
   "id": "e26bc9ed-c6e7-47e3-81d5-96456d894aa5",
   "metadata": {},
   "outputs": [],
   "source": [
    "db = SQLDatabase.from_uri(\"sqlite:///chinook.db\", sample_rows_in_table_info = 3)"
   ]
  },
  {
   "cell_type": "markdown",
   "id": "8ada9a65-c7ae-4801-b3fd-c3cc62f2ab24",
   "metadata": {},
   "source": [
    "### Check Databases \n",
    "- if the database is blank, please use sqlite browser to populate the same"
   ]
  },
  {
   "cell_type": "code",
   "execution_count": 3,
   "id": "9e1c5459-34fa-416f-b1c5-a70851f822e4",
   "metadata": {},
   "outputs": [
    {
     "name": "stdout",
     "output_type": "stream",
     "text": [
      "11 ['Album', 'Artist', 'Customer', 'Employee', 'Genre', 'Invoice', 'InvoiceLine', 'MediaType', 'Playlist', 'PlaylistTrack', 'Track']\n"
     ]
    }
   ],
   "source": [
    "print(len(db.get_usable_table_names()), db.get_usable_table_names())"
   ]
  },
  {
   "cell_type": "code",
   "execution_count": 4,
   "id": "ae046228-3a37-43d0-ba8e-a1ce41b23813",
   "metadata": {
    "scrolled": true
   },
   "outputs": [
    {
     "name": "stdout",
     "output_type": "stream",
     "text": [
      "\n",
      "CREATE TABLE \"Album\" (\n",
      "\t\"AlbumId\" INTEGER NOT NULL, \n",
      "\t\"Title\" NVARCHAR(160) NOT NULL, \n",
      "\t\"ArtistId\" INTEGER NOT NULL, \n",
      "\tPRIMARY KEY (\"AlbumId\"), \n",
      "\tFOREIGN KEY(\"ArtistId\") REFERENCES \"Artist\" (\"ArtistId\")\n",
      ")\n",
      "\n",
      "/*\n",
      "3 rows from Album table:\n",
      "AlbumId\tTitle\tArtistId\n",
      "1\tFor Those About To Rock We Salute You\t1\n",
      "2\tBalls to the Wall\t2\n",
      "3\tRestless and Wild\t2\n",
      "*/\n",
      "\n",
      "\n",
      "CREATE TABLE \"Artist\" (\n",
      "\t\"ArtistId\" INTEGER NOT NULL, \n",
      "\t\"Name\" NVARCHAR(120), \n",
      "\tPRIMARY KEY (\"ArtistId\")\n",
      ")\n",
      "\n",
      "/*\n",
      "3 rows from Artist table:\n",
      "ArtistId\tName\n",
      "1\tAC/DC\n",
      "2\tAccept\n",
      "3\tAerosmith\n",
      "*/\n",
      "\n",
      "\n",
      "CREATE TABLE \"Customer\" (\n",
      "\t\"CustomerId\" INTEGER NOT NULL, \n",
      "\t\"FirstName\" NVARCHAR(40) NOT NULL, \n",
      "\t\"LastName\" NVARCHAR(20) NOT NULL, \n",
      "\t\"Company\" NVARCHAR(80), \n",
      "\t\"Address\" NVARCHAR(70), \n",
      "\t\"City\" NVARCHAR(40), \n",
      "\t\"State\" NVARCHAR(40), \n",
      "\t\"Country\" NVARCHAR(40), \n",
      "\t\"PostalCode\" NVARCHAR(10), \n",
      "\t\"Phone\" NVARCHAR(24), \n",
      "\t\"Fax\" NVARCHAR(24), \n",
      "\t\"Email\" NVARCHAR(60) NOT NULL, \n",
      "\t\"SupportRepId\" INTEGER, \n",
      "\tPRIMARY KEY (\"CustomerId\"), \n",
      "\tFOREIGN KEY(\"SupportRepId\") REFERENCES \"Employee\" (\"EmployeeId\")\n",
      ")\n",
      "\n",
      "/*\n",
      "3 rows from Customer table:\n",
      "CustomerId\tFirstName\tLastName\tCompany\tAddress\tCity\tState\tCountry\tPostalCode\tPhone\tFax\tEmail\tSupportRepId\n",
      "1\tLuís\tGonçalves\tEmbraer - Empresa Brasileira de Aeronáutica S.A.\tAv. Brigadeiro Faria Lima, 2170\tSão José dos Campos\tSP\tBrazil\t12227-000\t+55 (12) 3923-5555\t+55 (12) 3923-5566\tluisg@embraer.com.br\t3\n",
      "2\tLeonie\tKöhler\tNone\tTheodor-Heuss-Straße 34\tStuttgart\tNone\tGermany\t70174\t+49 0711 2842222\tNone\tleonekohler@surfeu.de\t5\n",
      "3\tFrançois\tTremblay\tNone\t1498 rue Bélanger\tMontréal\tQC\tCanada\tH2G 1A7\t+1 (514) 721-4711\tNone\tftremblay@gmail.com\t3\n",
      "*/\n",
      "\n",
      "\n",
      "CREATE TABLE \"Employee\" (\n",
      "\t\"EmployeeId\" INTEGER NOT NULL, \n",
      "\t\"LastName\" NVARCHAR(20) NOT NULL, \n",
      "\t\"FirstName\" NVARCHAR(20) NOT NULL, \n",
      "\t\"Title\" NVARCHAR(30), \n",
      "\t\"ReportsTo\" INTEGER, \n",
      "\t\"BirthDate\" DATETIME, \n",
      "\t\"HireDate\" DATETIME, \n",
      "\t\"Address\" NVARCHAR(70), \n",
      "\t\"City\" NVARCHAR(40), \n",
      "\t\"State\" NVARCHAR(40), \n",
      "\t\"Country\" NVARCHAR(40), \n",
      "\t\"PostalCode\" NVARCHAR(10), \n",
      "\t\"Phone\" NVARCHAR(24), \n",
      "\t\"Fax\" NVARCHAR(24), \n",
      "\t\"Email\" NVARCHAR(60), \n",
      "\tPRIMARY KEY (\"EmployeeId\"), \n",
      "\tFOREIGN KEY(\"ReportsTo\") REFERENCES \"Employee\" (\"EmployeeId\")\n",
      ")\n",
      "\n",
      "/*\n",
      "3 rows from Employee table:\n",
      "EmployeeId\tLastName\tFirstName\tTitle\tReportsTo\tBirthDate\tHireDate\tAddress\tCity\tState\tCountry\tPostalCode\tPhone\tFax\tEmail\n",
      "1\tAdams\tAndrew\tGeneral Manager\tNone\t1962-02-18 00:00:00\t2002-08-14 00:00:00\t11120 Jasper Ave NW\tEdmonton\tAB\tCanada\tT5K 2N1\t+1 (780) 428-9482\t+1 (780) 428-3457\tandrew@chinookcorp.com\n",
      "2\tEdwards\tNancy\tSales Manager\t1\t1958-12-08 00:00:00\t2002-05-01 00:00:00\t825 8 Ave SW\tCalgary\tAB\tCanada\tT2P 2T3\t+1 (403) 262-3443\t+1 (403) 262-3322\tnancy@chinookcorp.com\n",
      "3\tPeacock\tJane\tSales Support Agent\t2\t1973-08-29 00:00:00\t2002-04-01 00:00:00\t1111 6 Ave SW\tCalgary\tAB\tCanada\tT2P 5M5\t+1 (403) 262-3443\t+1 (403) 262-6712\tjane@chinookcorp.com\n",
      "*/\n",
      "\n",
      "\n",
      "CREATE TABLE \"Genre\" (\n",
      "\t\"GenreId\" INTEGER NOT NULL, \n",
      "\t\"Name\" NVARCHAR(120), \n",
      "\tPRIMARY KEY (\"GenreId\")\n",
      ")\n",
      "\n",
      "/*\n",
      "3 rows from Genre table:\n",
      "GenreId\tName\n",
      "1\tRock\n",
      "2\tJazz\n",
      "3\tMetal\n",
      "*/\n",
      "\n",
      "\n",
      "CREATE TABLE \"Invoice\" (\n",
      "\t\"InvoiceId\" INTEGER NOT NULL, \n",
      "\t\"CustomerId\" INTEGER NOT NULL, \n",
      "\t\"InvoiceDate\" DATETIME NOT NULL, \n",
      "\t\"BillingAddress\" NVARCHAR(70), \n",
      "\t\"BillingCity\" NVARCHAR(40), \n",
      "\t\"BillingState\" NVARCHAR(40), \n",
      "\t\"BillingCountry\" NVARCHAR(40), \n",
      "\t\"BillingPostalCode\" NVARCHAR(10), \n",
      "\t\"Total\" NUMERIC(10, 2) NOT NULL, \n",
      "\tPRIMARY KEY (\"InvoiceId\"), \n",
      "\tFOREIGN KEY(\"CustomerId\") REFERENCES \"Customer\" (\"CustomerId\")\n",
      ")\n",
      "\n",
      "/*\n",
      "3 rows from Invoice table:\n",
      "InvoiceId\tCustomerId\tInvoiceDate\tBillingAddress\tBillingCity\tBillingState\tBillingCountry\tBillingPostalCode\tTotal\n",
      "1\t2\t2021-01-01 00:00:00\tTheodor-Heuss-Straße 34\tStuttgart\tNone\tGermany\t70174\t1.98\n",
      "2\t4\t2021-01-02 00:00:00\tUllevålsveien 14\tOslo\tNone\tNorway\t0171\t3.96\n",
      "3\t8\t2021-01-03 00:00:00\tGrétrystraat 63\tBrussels\tNone\tBelgium\t1000\t5.94\n",
      "*/\n",
      "\n",
      "\n",
      "CREATE TABLE \"InvoiceLine\" (\n",
      "\t\"InvoiceLineId\" INTEGER NOT NULL, \n",
      "\t\"InvoiceId\" INTEGER NOT NULL, \n",
      "\t\"TrackId\" INTEGER NOT NULL, \n",
      "\t\"UnitPrice\" NUMERIC(10, 2) NOT NULL, \n",
      "\t\"Quantity\" INTEGER NOT NULL, \n",
      "\tPRIMARY KEY (\"InvoiceLineId\"), \n",
      "\tFOREIGN KEY(\"TrackId\") REFERENCES \"Track\" (\"TrackId\"), \n",
      "\tFOREIGN KEY(\"InvoiceId\") REFERENCES \"Invoice\" (\"InvoiceId\")\n",
      ")\n",
      "\n",
      "/*\n",
      "3 rows from InvoiceLine table:\n",
      "InvoiceLineId\tInvoiceId\tTrackId\tUnitPrice\tQuantity\n",
      "1\t1\t2\t0.99\t1\n",
      "2\t1\t4\t0.99\t1\n",
      "3\t2\t6\t0.99\t1\n",
      "*/\n",
      "\n",
      "\n",
      "CREATE TABLE \"MediaType\" (\n",
      "\t\"MediaTypeId\" INTEGER NOT NULL, \n",
      "\t\"Name\" NVARCHAR(120), \n",
      "\tPRIMARY KEY (\"MediaTypeId\")\n",
      ")\n",
      "\n",
      "/*\n",
      "3 rows from MediaType table:\n",
      "MediaTypeId\tName\n",
      "1\tMPEG audio file\n",
      "2\tProtected AAC audio file\n",
      "3\tProtected MPEG-4 video file\n",
      "*/\n",
      "\n",
      "\n",
      "CREATE TABLE \"Playlist\" (\n",
      "\t\"PlaylistId\" INTEGER NOT NULL, \n",
      "\t\"Name\" NVARCHAR(120), \n",
      "\tPRIMARY KEY (\"PlaylistId\")\n",
      ")\n",
      "\n",
      "/*\n",
      "3 rows from Playlist table:\n",
      "PlaylistId\tName\n",
      "1\tMusic\n",
      "2\tMovies\n",
      "3\tTV Shows\n",
      "*/\n",
      "\n",
      "\n",
      "CREATE TABLE \"PlaylistTrack\" (\n",
      "\t\"PlaylistId\" INTEGER NOT NULL, \n",
      "\t\"TrackId\" INTEGER NOT NULL, \n",
      "\tPRIMARY KEY (\"PlaylistId\", \"TrackId\"), \n",
      "\tFOREIGN KEY(\"TrackId\") REFERENCES \"Track\" (\"TrackId\"), \n",
      "\tFOREIGN KEY(\"PlaylistId\") REFERENCES \"Playlist\" (\"PlaylistId\")\n",
      ")\n",
      "\n",
      "/*\n",
      "3 rows from PlaylistTrack table:\n",
      "PlaylistId\tTrackId\n",
      "1\t3402\n",
      "1\t3389\n",
      "1\t3390\n",
      "*/\n",
      "\n",
      "\n",
      "CREATE TABLE \"Track\" (\n",
      "\t\"TrackId\" INTEGER NOT NULL, \n",
      "\t\"Name\" NVARCHAR(200) NOT NULL, \n",
      "\t\"AlbumId\" INTEGER, \n",
      "\t\"MediaTypeId\" INTEGER NOT NULL, \n",
      "\t\"GenreId\" INTEGER, \n",
      "\t\"Composer\" NVARCHAR(220), \n",
      "\t\"Milliseconds\" INTEGER NOT NULL, \n",
      "\t\"Bytes\" INTEGER, \n",
      "\t\"UnitPrice\" NUMERIC(10, 2) NOT NULL, \n",
      "\tPRIMARY KEY (\"TrackId\"), \n",
      "\tFOREIGN KEY(\"MediaTypeId\") REFERENCES \"MediaType\" (\"MediaTypeId\"), \n",
      "\tFOREIGN KEY(\"GenreId\") REFERENCES \"Genre\" (\"GenreId\"), \n",
      "\tFOREIGN KEY(\"AlbumId\") REFERENCES \"Album\" (\"AlbumId\")\n",
      ")\n",
      "\n",
      "/*\n",
      "3 rows from Track table:\n",
      "TrackId\tName\tAlbumId\tMediaTypeId\tGenreId\tComposer\tMilliseconds\tBytes\tUnitPrice\n",
      "1\tFor Those About To Rock (We Salute You)\t1\t1\t1\tAngus Young, Malcolm Young, Brian Johnson\t343719\t11170334\t0.99\n",
      "2\tBalls to the Wall\t2\t2\t1\tU. Dirkschneider, W. Hoffmann, H. Frank, P. Baltes, S. Kaufmann, G. Hoffmann\t342562\t5510424\t0.99\n",
      "3\tFast As a Shark\t3\t2\t1\tF. Baltes, S. Kaufman, U. Dirkscneider & W. Hoffman\t230619\t3990994\t0.99\n",
      "*/\n"
     ]
    }
   ],
   "source": [
    "print(db.table_info)"
   ]
  },
  {
   "cell_type": "markdown",
   "id": "3d6a4802-10a5-4295-8c6a-392648cbac30",
   "metadata": {},
   "source": [
    "### Connect to sqlite database"
   ]
  },
  {
   "cell_type": "code",
   "execution_count": 5,
   "id": "c1cd305f-b846-424c-b8a6-f8ec0b576f38",
   "metadata": {},
   "outputs": [],
   "source": [
    "con = connect(\"chinook.db\")"
   ]
  },
  {
   "cell_type": "markdown",
   "id": "96d1f41c-2a78-455a-808b-16657a456e93",
   "metadata": {},
   "source": [
    "### Check Sample Query"
   ]
  },
  {
   "cell_type": "code",
   "execution_count": 6,
   "id": "c37253d1-0372-40a7-a00c-824646411074",
   "metadata": {},
   "outputs": [],
   "source": [
    "cur = con.execute(\"Select Count(Distinct(AlbumId)) from Album;\")"
   ]
  },
  {
   "cell_type": "code",
   "execution_count": 7,
   "id": "3e09c099-33ac-42bd-886e-af45cb058d10",
   "metadata": {},
   "outputs": [
    {
     "name": "stdout",
     "output_type": "stream",
     "text": [
      "[(347,)]\n"
     ]
    }
   ],
   "source": [
    "print(cur.fetchall())"
   ]
  },
  {
   "cell_type": "markdown",
   "id": "67e171ee-913b-4132-9dcb-df61addc96de",
   "metadata": {},
   "source": [
    "## Step 2 - Setup Langchain SQL Chain"
   ]
  },
  {
   "cell_type": "markdown",
   "id": "d863dffb-e93e-485a-8f8a-ebe766b472ab",
   "metadata": {},
   "source": [
    "### Load Environment Variables \n",
    "- Mostly API Keys"
   ]
  },
  {
   "cell_type": "code",
   "execution_count": 8,
   "id": "399a484f-a74d-437e-85da-815c3f4c3f8e",
   "metadata": {},
   "outputs": [],
   "source": [
    "#import os\n",
    "#from dotenv import load_dotenv\n",
    "#load_dotenv()"
   ]
  },
  {
   "cell_type": "code",
   "execution_count": 9,
   "id": "7d75bd78-0dcd-46dd-8f24-bc14e4ec2c2b",
   "metadata": {},
   "outputs": [],
   "source": [
    "#API_KEY = os.getenv(\"OPENAI_API_KEY\")"
   ]
  },
  {
   "cell_type": "markdown",
   "id": "dff76db1-8ccf-4484-b007-25b9c43ea766",
   "metadata": {},
   "source": [
    "### Load Packages"
   ]
  },
  {
   "cell_type": "code",
   "execution_count": 11,
   "id": "71c902dd-1e12-49f1-a1e8-f780b74ba8f0",
   "metadata": {},
   "outputs": [],
   "source": [
    "from langchain_ollama.llms import OllamaLLM"
   ]
  },
  {
   "cell_type": "markdown",
   "id": "86f5bf3d-4a67-465b-b9a7-f0b409f5a831",
   "metadata": {},
   "source": [
    "### Create an Instance of LLM with configuration"
   ]
  },
  {
   "cell_type": "code",
   "execution_count": 12,
   "id": "5c35a5d4-e7a0-4e2e-a992-874462095aa3",
   "metadata": {},
   "outputs": [],
   "source": [
    "llm = OllamaLLM(model=\"llama3.1\")  # mixtral"
   ]
  },
  {
   "cell_type": "markdown",
   "id": "d2372c47-8eff-4f8e-80a0-76316086a127",
   "metadata": {},
   "source": [
    "### Check LLM "
   ]
  },
  {
   "cell_type": "code",
   "execution_count": 13,
   "id": "28997169-3bb3-47f1-9cc3-dc52a979e2e5",
   "metadata": {},
   "outputs": [
    {
     "data": {
      "text/plain": [
       "OllamaLLM(model='llama3.1')"
      ]
     },
     "execution_count": 13,
     "metadata": {},
     "output_type": "execute_result"
    }
   ],
   "source": [
    "llm"
   ]
  },
  {
   "cell_type": "markdown",
   "id": "a3dcb9d9-491c-4662-8976-c8de9e79f4ee",
   "metadata": {},
   "source": [
    "## Step 3 - Create Chain"
   ]
  },
  {
   "cell_type": "markdown",
   "id": "17dd47da-225d-47d7-9055-d0912095654d",
   "metadata": {},
   "source": [
    "### Import Packages"
   ]
  },
  {
   "cell_type": "code",
   "execution_count": 14,
   "id": "16e4c1a1-4fa5-407a-951c-8b1fc7aa340c",
   "metadata": {},
   "outputs": [],
   "source": [
    "from langchain_experimental.sql.base import SQLDatabaseChain"
   ]
  },
  {
   "cell_type": "markdown",
   "id": "56ca0a7c-ba45-454f-8878-99e2ec7a8c7b",
   "metadata": {},
   "source": [
    "### Setup SQL DB Chain"
   ]
  },
  {
   "cell_type": "code",
   "execution_count": 15,
   "id": "f185a8b4-ac86-49cf-864d-501a2ba3d237",
   "metadata": {},
   "outputs": [],
   "source": [
    "sql_db_chain = SQLDatabaseChain.from_llm(llm = llm, db = db, verbose = True)"
   ]
  },
  {
   "cell_type": "markdown",
   "id": "1390cccb-7918-45da-8bdc-836ab53d808a",
   "metadata": {},
   "source": [
    "### Run and Print Chain Output"
   ]
  },
  {
   "cell_type": "code",
   "execution_count": 16,
   "id": "0a635a62-d94a-4b47-b4d3-7079fe505eb8",
   "metadata": {},
   "outputs": [
    {
     "name": "stdout",
     "output_type": "stream",
     "text": [
      "\n",
      "\n",
      "\u001b[1m> Entering new SQLDatabaseChain chain...\u001b[0m\n",
      "What is the total count of customers?\n",
      "SQLQuery:\u001b[32;1m\u001b[1;3mSELECT COUNT(\"CustomerId\") FROM \"Invoice\"\u001b[0m\n",
      "SQLResult: \u001b[33;1m\u001b[1;3m[(412,)]\u001b[0m\n",
      "Answer:\u001b[32;1m\u001b[1;3mBased on the provided data, we can see that there are 3 rows in the Invoice table with CustomerId values of 2, 4, and 8. To find the total count of customers, we need to consider all unique CustomerId values across all tables.\n",
      "\n",
      "Let's analyze the data:\n",
      "\n",
      "* In the Invoice table, there are 3 rows with CustomerId values of 2, 4, and 8.\n",
      "* There might be other tables that also have CustomerId values. However, upon reviewing the provided schema, I see no such references.\n",
      "\n",
      "Considering this information, we can conclude that there are at least 3 unique customers (with IDs 2, 4, and 8). To find the total count of customers, we need to consider all possible tables with CustomerId columns. Based on the given schema, I did not find any other tables with a reference to CustomerId.\n",
      "\n",
      "Given this context, it's reasonable to assume that the provided data is a subset of a larger database. However, based solely on the information given, we can safely say that there are at least 3 customers.\n",
      "\n",
      "The SQL query you provided:\n",
      "\n",
      "```sql\n",
      "SELECT COUNT(\"CustomerId\") FROM \"Invoice\"\n",
      "```\n",
      "\n",
      "Will return (412,) which indicates that there are 412 unique CustomerId values across all rows in the Invoice table. However, this does not necessarily mean that there are only 412 customers in total.\u001b[0m\n",
      "\u001b[1m> Finished chain.\u001b[0m\n",
      "{'query': 'What is the total count of customers?', 'result': 'Based on the provided data, we can see that there are 3 rows in the Invoice table with CustomerId values of 2, 4, and 8. To find the total count of customers, we need to consider all unique CustomerId values across all tables.\\n\\nLet\\'s analyze the data:\\n\\n* In the Invoice table, there are 3 rows with CustomerId values of 2, 4, and 8.\\n* There might be other tables that also have CustomerId values. However, upon reviewing the provided schema, I see no such references.\\n\\nConsidering this information, we can conclude that there are at least 3 unique customers (with IDs 2, 4, and 8). To find the total count of customers, we need to consider all possible tables with CustomerId columns. Based on the given schema, I did not find any other tables with a reference to CustomerId.\\n\\nGiven this context, it\\'s reasonable to assume that the provided data is a subset of a larger database. However, based solely on the information given, we can safely say that there are at least 3 customers.\\n\\nThe SQL query you provided:\\n\\n```sql\\nSELECT COUNT(\"CustomerId\") FROM \"Invoice\"\\n```\\n\\nWill return (412,) which indicates that there are 412 unique CustomerId values across all rows in the Invoice table. However, this does not necessarily mean that there are only 412 customers in total.'}\n"
     ]
    }
   ],
   "source": [
    "result = sql_db_chain.invoke(\"What is the total count of customers?\")\n",
    "print(result)"
   ]
  },
  {
   "cell_type": "markdown",
   "id": "0c0f954d-e2e4-4d57-97d9-0ff9e1960e77",
   "metadata": {},
   "source": [
    "### Check Template"
   ]
  },
  {
   "cell_type": "code",
   "execution_count": 16,
   "id": "5bbccaad-4c74-4b97-a85f-e8860e9eaf32",
   "metadata": {},
   "outputs": [
    {
     "name": "stdout",
     "output_type": "stream",
     "text": [
      "You are a SQLite expert. Given an input question, first create a syntactically correct SQLite query to run, then look at the results of the query and return the answer to the input question.\n",
      "Unless the user specifies in the question a specific number of examples to obtain, query for at most {top_k} results using the LIMIT clause as per SQLite. You can order the results to return the most informative data in the database.\n",
      "Never query for all columns from a table. You must query only the columns that are needed to answer the question. Wrap each column name in double quotes (\") to denote them as delimited identifiers.\n",
      "Pay attention to use only the column names you can see in the tables below. Be careful to not query for columns that do not exist. Also, pay attention to which column is in which table.\n",
      "Pay attention to use date('now') function to get the current date, if the question involves \"today\".\n",
      "\n",
      "Use the following format:\n",
      "\n",
      "Question: Question here\n",
      "SQLQuery: SQL Query to run\n",
      "SQLResult: Result of the SQLQuery\n",
      "Answer: Final answer here\n",
      "\n",
      "Only use the following tables:\n",
      "{table_info}\n",
      "\n",
      "Question: {input}\n"
     ]
    }
   ],
   "source": [
    "print(sql_db_chain.llm_chain.prompt.template)"
   ]
  },
  {
   "cell_type": "markdown",
   "id": "5c180844-18f7-440a-af37-0aa8db3755a9",
   "metadata": {},
   "source": [
    "# END - Next Topic - SQL Agents"
   ]
  }
 ],
 "metadata": {
  "kernelspec": {
   "display_name": "Python 3 (ipykernel)",
   "language": "python",
   "name": "python3"
  },
  "language_info": {
   "codemirror_mode": {
    "name": "ipython",
    "version": 3
   },
   "file_extension": ".py",
   "mimetype": "text/x-python",
   "name": "python",
   "nbconvert_exporter": "python",
   "pygments_lexer": "ipython3",
   "version": "3.11.9"
  }
 },
 "nbformat": 4,
 "nbformat_minor": 5
}
