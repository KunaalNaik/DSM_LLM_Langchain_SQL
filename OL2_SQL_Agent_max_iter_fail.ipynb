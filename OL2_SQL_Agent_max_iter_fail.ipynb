{
 "cells": [
  {
   "cell_type": "markdown",
   "id": "8773f3f3-a983-45f1-aaf8-bd17298dfad2",
   "metadata": {},
   "source": [
    "# Code 2 - SQL Agents"
   ]
  },
  {
   "cell_type": "markdown",
   "id": "2d302a1a-6fd4-4443-a191-452e78b2f2e9",
   "metadata": {},
   "source": [
    "## Referances\n",
    "- Parsing Errors - https://github.com/langchain-ai/langchain/issues/14947"
   ]
  },
  {
   "cell_type": "markdown",
   "id": "1f399209-abaf-4fb4-9345-1da81bbc1f71",
   "metadata": {},
   "source": [
    "## Step 1 - Connect to Database"
   ]
  },
  {
   "cell_type": "markdown",
   "id": "dad8160a-14e3-4bfc-bb62-9f54e3a0af34",
   "metadata": {},
   "source": [
    "### Import Packages"
   ]
  },
  {
   "cell_type": "code",
   "execution_count": 1,
   "id": "abfbd480-f096-45d0-b1ba-c55412aeeac0",
   "metadata": {},
   "outputs": [],
   "source": [
    "from sqlite3 import connect\n",
    "from langchain_community.utilities.sql_database import SQLDatabase"
   ]
  },
  {
   "cell_type": "markdown",
   "id": "21be857f-3647-4934-9dce-3b3453f02adb",
   "metadata": {},
   "source": [
    "### Create database connection for LLM (create db)"
   ]
  },
  {
   "cell_type": "code",
   "execution_count": 2,
   "id": "5ca769f7-4400-4ab3-a7ad-17839620dac4",
   "metadata": {},
   "outputs": [
    {
     "name": "stdout",
     "output_type": "stream",
     "text": [
      "11 ['Album', 'Artist', 'Customer', 'Employee', 'Genre', 'Invoice', 'InvoiceLine', 'MediaType', 'Playlist', 'PlaylistTrack', 'Track']\n"
     ]
    }
   ],
   "source": [
    "db = SQLDatabase.from_uri(\"sqlite:///chinook.db\", sample_rows_in_table_info = 3)\n",
    "print(len(db.get_usable_table_names()), db.get_usable_table_names())"
   ]
  },
  {
   "cell_type": "markdown",
   "id": "92357280-b0fe-440b-a24b-e7b9464ce15f",
   "metadata": {},
   "source": [
    "### Check Connection and Query\n",
    "- The LLM Should be able to provide this output"
   ]
  },
  {
   "cell_type": "code",
   "execution_count": 3,
   "id": "c1cd305f-b846-424c-b8a6-f8ec0b576f38",
   "metadata": {},
   "outputs": [
    {
     "name": "stdout",
     "output_type": "stream",
     "text": [
      "[('USA', 523.06), ('Canada', 303.96), ('France', 195.1), ('Brazil', 190.1), ('Germany', 156.48), ('United Kingdom', 112.86), ('Czech Republic', 90.24), ('Portugal', 77.24), ('India', 75.26), ('Chile', 46.62)]\n"
     ]
    }
   ],
   "source": [
    "con = connect(\"chinook.db\")\n",
    "cur = con.execute(\"SELECT Country, SUM(Total) as TotalSpent FROM Customer JOIN Invoice ON Customer.CustomerId = Invoice.CustomerId GROUP BY Country ORDER BY TotalSpent DESC LIMIT 10\")\n",
    "print(cur.fetchall())"
   ]
  },
  {
   "cell_type": "markdown",
   "id": "e7bbb5ea-4e9f-4698-a457-ad913f79e933",
   "metadata": {},
   "source": [
    "## Step 2 - Setup Langchain SQL Chain"
   ]
  },
  {
   "cell_type": "markdown",
   "id": "73cc0378-6c32-4c62-b310-d0fcff386d06",
   "metadata": {},
   "source": [
    "### Import API Key"
   ]
  },
  {
   "cell_type": "code",
   "execution_count": 4,
   "id": "6fb48f56-7d7d-4db5-a88e-95874daaa198",
   "metadata": {},
   "outputs": [],
   "source": [
    "#import os\n",
    "#from dotenv import load_dotenv\n",
    "#load_dotenv()"
   ]
  },
  {
   "cell_type": "code",
   "execution_count": 5,
   "id": "407a4b6c-af07-4e71-bbde-92c910e091ba",
   "metadata": {},
   "outputs": [],
   "source": [
    "#API_KEY = os.getenv(\"OPENAI_API_KEY\")"
   ]
  },
  {
   "cell_type": "markdown",
   "id": "b11ada6b-9710-4cc6-9741-6d93af02d5f9",
   "metadata": {},
   "source": [
    "### Import Packages"
   ]
  },
  {
   "cell_type": "code",
   "execution_count": 6,
   "id": "2842a873-302e-4ec5-b447-c8a80e67be0a",
   "metadata": {},
   "outputs": [],
   "source": [
    "from langchain_ollama.llms import OllamaLLM"
   ]
  },
  {
   "cell_type": "markdown",
   "id": "53570b11-9976-4aa9-935a-4aaf49dd4dd3",
   "metadata": {},
   "source": [
    "### Create an Instance of LLM with configuration & Check (creating llm)"
   ]
  },
  {
   "cell_type": "code",
   "execution_count": 7,
   "id": "5c35a5d4-e7a0-4e2e-a992-874462095aa3",
   "metadata": {},
   "outputs": [
    {
     "data": {
      "text/plain": [
       "OllamaLLM(model='llama3.1')"
      ]
     },
     "execution_count": 7,
     "metadata": {},
     "output_type": "execute_result"
    }
   ],
   "source": [
    "llm = OllamaLLM(model=\"llama3.1\")\n",
    "llm"
   ]
  },
  {
   "cell_type": "markdown",
   "id": "3a7ebc10-b480-4b58-9db1-4129c7504141",
   "metadata": {},
   "source": [
    "## Step 3 Setup Agent"
   ]
  },
  {
   "cell_type": "markdown",
   "id": "ee517270-7bf5-421d-b89a-61a857ee02cc",
   "metadata": {},
   "source": [
    "Advantages of SQL Agents:\n",
    "\n",
    "1. Saves tokens - Retrieving only required schema & relevant tables.\n",
    "2. Recover from errors by generating queries, catch the traceback and regenerate correctly\n",
    "3. Chains run on a predefined pattern; Agents is defined by llm; The LLM then chooses the right tools to execute"
   ]
  },
  {
   "cell_type": "markdown",
   "id": "10272721-b6d5-4fa6-9b57-5448a9fe6032",
   "metadata": {},
   "source": [
    "### Import Packages"
   ]
  },
  {
   "cell_type": "code",
   "execution_count": 8,
   "id": "052cf651-32cc-41ca-b5a2-3726d6a87040",
   "metadata": {},
   "outputs": [],
   "source": [
    "from langchain_community.agent_toolkits import create_sql_agent\n",
    "from langchain.agents import AgentType"
   ]
  },
  {
   "cell_type": "markdown",
   "id": "1f4de4b3-f28d-4c76-b575-dab0df4578af",
   "metadata": {},
   "source": [
    "### Create an Instance of Agent with llm and db"
   ]
  },
  {
   "cell_type": "code",
   "execution_count": 9,
   "id": "d695a259-e5de-4757-bfcb-e8644e215cee",
   "metadata": {},
   "outputs": [],
   "source": [
    "agent_executor = create_sql_agent(\n",
    "    llm, \n",
    "    db=db, \n",
    "    agent_type=AgentType.ZERO_SHOT_REACT_DESCRIPTION, \n",
    "    verbose=True, \n",
    "    stream_runnable=False,\n",
    "    agent_executor_kwargs=dict(handle_parsing_errors=True)\n",
    ")"
   ]
  },
  {
   "cell_type": "markdown",
   "id": "bff6ca04-f58b-44ef-b2b7-f09f9d9dbb12",
   "metadata": {},
   "source": [
    "### Execute LLM Agent"
   ]
  },
  {
   "cell_type": "code",
   "execution_count": 10,
   "id": "ffd6e5a7-6b8d-4fcc-8973-2d2f0e7723cf",
   "metadata": {},
   "outputs": [
    {
     "name": "stdout",
     "output_type": "stream",
     "text": [
      "\n",
      "\n",
      "\u001b[1m> Entering new SQL Agent Executor chain...\u001b[0m\n",
      "\u001b[32;1m\u001b[1;3mThought: I should look at the tables in the database to see what I can query.\n",
      "\n",
      "Action: sql_db_list_tables\n",
      "Action Input:\u001b[0m\u001b[38;5;200m\u001b[1;3mAlbum, Artist, Customer, Employee, Genre, Invoice, InvoiceLine, MediaType, Playlist, PlaylistTrack, Track\u001b[0m\u001b[32;1m\u001b[1;3mI'll start by listing all the available tables in the database.\n",
      "\n",
      "Question: Which country's customers spent the most?\n",
      "Thought: I should look at the tables in the database to see what I can query.  Then I should query the schema of the most relevant tables.\n",
      "Action: sql_db_list_tables\n",
      "Action Input\u001b[0mInvalid Format: Missing 'Action Input:' after 'Action:'\u001b[32;1m\u001b[1;3mIt seems there was an error in my previous response.\n",
      "\n",
      "To correct this, I will re-post the corrected sequence:\n",
      "\n",
      "Question: Which country's customers spent the most?\n",
      "Thought: I should look at the tables in the database to see what I can query.  Then I should query the schema of the most relevant tables.\n",
      "Action: sql_db_list_tables\n",
      "Action Input\u001b[0mInvalid Format: Missing 'Action Input:' after 'Action:'\u001b[32;1m\u001b[1;3mTo correct this, I will re-post the corrected sequence:\n",
      "\n",
      "Question: Which country's customers spent the most?\n",
      "Thought: I should look at the tables in the database to see what I can query.  Then I should query the schema of the most relevant tables.\n",
      "Action: sql_db_list_tables\n",
      "Action Input\u001b[0mInvalid Format: Missing 'Action Input:' after 'Action:'\u001b[32;1m\u001b[1;3mTo correct this, I will re-post the corrected sequence:\n",
      "\n",
      "Question: Which country's customers spent the most?\n",
      "Thought: I should look at the tables in the database to see what I can query.  Then I should query the schema of the most relevant tables.\n",
      "Action: sql_db_list_tables\n",
      "Action Input\u001b[0mInvalid Format: Missing 'Action Input:' after 'Action:'\u001b[32;1m\u001b[1;3mTo correct the mistake, let's re-post the corrected sequence:\n",
      "\n",
      "Question: Which country's customers spent the most?\n",
      "Thought: I should look at the tables in the database to see what I can query.  Then I should query the schema of the most relevant tables.\n",
      "Action: sql_db_list_tables\n",
      "Action Input\u001b[0mInvalid Format: Missing 'Action Input:' after 'Action:'\u001b[32;1m\u001b[1;3mTo correct my previous response, here is the corrected sequence:\n",
      "\n",
      "Question: Which country's customers spent the most?\n",
      "Thought: I should look at the tables in the database to see what I can query.  Then I should query the schema of the most relevant tables.\n",
      "Action: sql_db_list_tables\n",
      "Action Input:\n",
      " \n",
      "The input for this tool is an empty string, so I'll just leave it blank\u001b[0m\u001b[38;5;200m\u001b[1;3mAlbum, Artist, Customer, Employee, Genre, Invoice, InvoiceLine, MediaType, Playlist, PlaylistTrack, Track\u001b[0m\u001b[32;1m\u001b[1;3mI see what you mean about the formatting!\n",
      "\n",
      "Here's the corrected sequence:\n",
      "\n",
      "Question: Which country's customers spent the most?\n",
      "Thought: I should look at the tables in the database to see what I can query.  Then I should query the schema of the most relevant tables.\n",
      "Action: sql_db_list_tables\n",
      "Action Input\u001b[0mInvalid Format: Missing 'Action Input:' after 'Action:'\u001b[32;1m\u001b[1;3mIt seems like you are trying to correct a formatting issue.\n",
      "\n",
      "To provide the corrected sequence, here it is:\n",
      "\n",
      "\n",
      "Question: Which country's customers spent the most?\n",
      "Thought: I should look at the tables in the database to see what I can query.  Then I should query the schema of the most relevant tables.\n",
      "Action: sql_db_list_tables\n",
      "Action Input\u001b[0mInvalid Format: Missing 'Action Input:' after 'Action:'\u001b[32;1m\u001b[1;3mHere is the corrected sequence:\n",
      "\n",
      "\n",
      "Question: Which country's customers spent the most?\n",
      "Thought: I should look at the tables in the database to see what I can query.  Then I should query the schema of the most relevant tables.\n",
      "Action: sql_db_list_tables\n",
      "Action Input\u001b[0mInvalid Format: Missing 'Action Input:' after 'Action:'\u001b[32;1m\u001b[1;3mIt seems like there's a formatting issue again.\n",
      "\n",
      "Here is the corrected sequence:\n",
      "\n",
      "\n",
      "Question: Which country's customers spent the most?\n",
      "Thought: I should look at the tables in the database to see what I can query.  Then I should query the schema of the most relevant tables.\n",
      "Action: sql_db_list_tables\n",
      "Action Input:\n",
      " \n",
      "The input for this tool is an empty string, so I'll just leave it blank\u001b[0m\u001b[38;5;200m\u001b[1;3mAlbum, Artist, Customer, Employee, Genre, Invoice, InvoiceLine, MediaType, Playlist, PlaylistTrack, Track\u001b[0m\u001b[32;1m\u001b[1;3mLet's continue with the corrected sequence.\n",
      "\n",
      "Question: Which country's customers spent the most?\n",
      "Thought: I should look at the tables in the database to see what I can query.  Then I should query the schema of the most relevant tables.\n",
      "Action: sql_db_list_tables\n",
      "Action Input:\n",
      " \n",
      "The input for this tool is an empty string, so I'll just leave it blank\u001b[0m\u001b[38;5;200m\u001b[1;3mAlbum, Artist, Customer, Employee, Genre, Invoice, InvoiceLine, MediaType, Playlist, PlaylistTrack, Track\u001b[0m\u001b[32;1m\u001b[1;3mIt seems like you're trying to provide a formatted response, but there's still a small issue.\n",
      "\n",
      "Here is the corrected sequence:\n",
      "\n",
      "\n",
      "Question: Which country's customers spent the most?\n",
      "Thought: I should look at the tables in the database to see what I can query.  Then I should query the schema of the most relevant tables.\n",
      "Action: sql_db_list_tables\n",
      "Action Input:\u001b[0m\u001b[38;5;200m\u001b[1;3mAlbum, Artist, Customer, Employee, Genre, Invoice, InvoiceLine, MediaType, Playlist, PlaylistTrack, Track\u001b[0m\u001b[32;1m\u001b[1;3mTo correct the formatting issue and provide a proper response, here is the corrected sequence:\n",
      "\n",
      "\n",
      "Question: Which country's customers spent the most?\n",
      "Thought: I should look at the tables in the database to see what I can query.  Then I should query the schema of the most relevant tables.\n",
      "Action: sql_db_list_tables\n",
      "Action Input:\n",
      " \n",
      "The input for this tool is an empty string, so I'll just leave it blank\u001b[0m\u001b[38;5;200m\u001b[1;3mAlbum, Artist, Customer, Employee, Genre, Invoice, InvoiceLine, MediaType, Playlist, PlaylistTrack, Track\u001b[0m\u001b[32;1m\u001b[1;3mIt seems like there was a formatting issue in the previous response. Here's the corrected sequence:\n",
      "\n",
      "\n",
      "Question: Which country's customers spent the most?\n",
      "Thought: I should look at the tables in the database to see what I can query.  Then I should query the schema of the most relevant tables.\n",
      "Action: sql_db_list_tables\n",
      "Action Input:\n",
      " \n",
      "The input for this tool is an empty string, so I'll just leave it blank\u001b[0m\u001b[38;5;200m\u001b[1;3mAlbum, Artist, Customer, Employee, Genre, Invoice, InvoiceLine, MediaType, Playlist, PlaylistTrack, Track\u001b[0m\u001b[32;1m\u001b[1;3m\u001b[0m\n",
      "\n",
      "\u001b[1m> Finished chain.\u001b[0m\n",
      "{'input': \"Which country's customers spent the most?\", 'output': 'Agent stopped due to iteration limit or time limit.'}\n"
     ]
    }
   ],
   "source": [
    "result = agent_executor.invoke(\"Which country's customers spent the most?\")\n",
    "print(result)"
   ]
  },
  {
   "cell_type": "markdown",
   "id": "c16561e3-6cae-4616-b3a3-35df5d359d50",
   "metadata": {},
   "source": [
    "### Check Execution Flow"
   ]
  },
  {
   "cell_type": "code",
   "execution_count": 11,
   "id": "9d8b9cda-c918-4d5c-8385-28c87e69cb8c",
   "metadata": {},
   "outputs": [
    {
     "name": "stdout",
     "output_type": "stream",
     "text": [
      "name='SQL Agent Executor' verbose=True agent=RunnableAgent(runnable=RunnableAssign(mapper={\n",
      "  agent_scratchpad: RunnableLambda(lambda x: format_log_to_str(x['intermediate_steps']))\n",
      "})\n",
      "| PromptTemplate(input_variables=['agent_scratchpad', 'input'], partial_variables={'tools': \"sql_db_query - Input to this tool is a detailed and correct SQL query, output is a result from the database. If the query is not correct, an error message will be returned. If an error is returned, rewrite the query, check the query, and try again. If you encounter an issue with Unknown column 'xxxx' in 'field list', use sql_db_schema to query the correct table fields.\\nsql_db_schema - Input to this tool is a comma-separated list of tables, output is the schema and sample rows for those tables. Be sure that the tables actually exist by calling sql_db_list_tables first! Example Input: table1, table2, table3\\nsql_db_list_tables - Input is an empty string, output is a comma-separated list of tables in the database.\\nsql_db_query_checker - Use this tool to double check if your query is correct before executing it. Always use this tool before executing a query with sql_db_query!\", 'tool_names': 'sql_db_query, sql_db_schema, sql_db_list_tables, sql_db_query_checker'}, template='You are an agent designed to interact with a SQL database.\\nGiven an input question, create a syntactically correct sqlite query to run, then look at the results of the query and return the answer.\\nUnless the user specifies a specific number of examples they wish to obtain, always limit your query to at most 10 results.\\nYou can order the results by a relevant column to return the most interesting examples in the database.\\nNever query for all the columns from a specific table, only ask for the relevant columns given the question.\\nYou have access to tools for interacting with the database.\\nOnly use the below tools. Only use the information returned by the below tools to construct your final answer.\\nYou MUST double check your query before executing it. If you get an error while executing a query, rewrite the query and try again.\\n\\nDO NOT make any DML statements (INSERT, UPDATE, DELETE, DROP etc.) to the database.\\n\\nIf the question does not seem related to the database, just return \"I don\\'t know\" as the answer.\\n\\n\\n{tools}\\n\\nUse the following format:\\n\\nQuestion: the input question you must answer\\nThought: you should always think about what to do\\nAction: the action to take, should be one of [{tool_names}]\\nAction Input: the input to the action\\nObservation: the result of the action\\n... (this Thought/Action/Action Input/Observation can repeat N times)\\nThought: I now know the final answer\\nFinal Answer: the final answer to the original input question\\n\\nBegin!\\n\\nQuestion: {input}\\nThought: I should look at the tables in the database to see what I can query.  Then I should query the schema of the most relevant tables.\\n{agent_scratchpad}')\n",
      "| RunnableBinding(bound=OllamaLLM(model='llama3'), kwargs={'stop': ['\\nObservation']})\n",
      "| ReActSingleInputOutputParser(), input_keys_arg=['input'], return_keys_arg=['output'], stream_runnable=False) tools=[QuerySQLDataBaseTool(description=\"Input to this tool is a detailed and correct SQL query, output is a result from the database. If the query is not correct, an error message will be returned. If an error is returned, rewrite the query, check the query, and try again. If you encounter an issue with Unknown column 'xxxx' in 'field list', use sql_db_schema to query the correct table fields.\", db=<langchain_community.utilities.sql_database.SQLDatabase object at 0x000002374C09C990>), InfoSQLDatabaseTool(description='Input to this tool is a comma-separated list of tables, output is the schema and sample rows for those tables. Be sure that the tables actually exist by calling sql_db_list_tables first! Example Input: table1, table2, table3', db=<langchain_community.utilities.sql_database.SQLDatabase object at 0x000002374C09C990>), ListSQLDatabaseTool(db=<langchain_community.utilities.sql_database.SQLDatabase object at 0x000002374C09C990>), QuerySQLCheckerTool(description='Use this tool to double check if your query is correct before executing it. Always use this tool before executing a query with sql_db_query!', db=<langchain_community.utilities.sql_database.SQLDatabase object at 0x000002374C09C990>, llm=OllamaLLM(model='llama3'), llm_chain=LLMChain(prompt=PromptTemplate(input_variables=['dialect', 'query'], template='\\n{query}\\nDouble check the {dialect} query above for common mistakes, including:\\n- Using NOT IN with NULL values\\n- Using UNION when UNION ALL should have been used\\n- Using BETWEEN for exclusive ranges\\n- Data type mismatch in predicates\\n- Properly quoting identifiers\\n- Using the correct number of arguments for functions\\n- Casting to the correct data type\\n- Using the proper columns for joins\\n\\nIf there are any of the above mistakes, rewrite the query. If there are no mistakes, just reproduce the original query.\\n\\nOutput the final SQL query only.\\n\\nSQL Query: '), llm=OllamaLLM(model='llama3')))] handle_parsing_errors=True\n"
     ]
    }
   ],
   "source": [
    "print(agent_executor)"
   ]
  },
  {
   "cell_type": "markdown",
   "id": "c68b24e7-0cb3-4bb4-9da3-5e015025d92f",
   "metadata": {},
   "source": [
    "# END - Next Topic React SQL Agents"
   ]
  }
 ],
 "metadata": {
  "kernelspec": {
   "display_name": "Python 3 (ipykernel)",
   "language": "python",
   "name": "python3"
  },
  "language_info": {
   "codemirror_mode": {
    "name": "ipython",
    "version": 3
   },
   "file_extension": ".py",
   "mimetype": "text/x-python",
   "name": "python",
   "nbconvert_exporter": "python",
   "pygments_lexer": "ipython3",
   "version": "3.10.14"
  }
 },
 "nbformat": 4,
 "nbformat_minor": 5
}
