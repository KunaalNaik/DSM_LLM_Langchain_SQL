{
 "cells": [
  {
   "cell_type": "markdown",
   "id": "8773f3f3-a983-45f1-aaf8-bd17298dfad2",
   "metadata": {},
   "source": [
    "# Code 4 - SQL Agents with Dynamic Few Shot Prompting"
   ]
  },
  {
   "cell_type": "markdown",
   "id": "1f399209-abaf-4fb4-9345-1da81bbc1f71",
   "metadata": {},
   "source": [
    "## Step 1 - Connect to Database"
   ]
  },
  {
   "cell_type": "markdown",
   "id": "dad8160a-14e3-4bfc-bb62-9f54e3a0af34",
   "metadata": {},
   "source": [
    "### Import Packages"
   ]
  },
  {
   "cell_type": "code",
   "execution_count": 1,
   "id": "abfbd480-f096-45d0-b1ba-c55412aeeac0",
   "metadata": {},
   "outputs": [],
   "source": [
    "from sqlite3 import connect\n",
    "from langchain_community.utilities.sql_database import SQLDatabase"
   ]
  },
  {
   "cell_type": "markdown",
   "id": "21be857f-3647-4934-9dce-3b3453f02adb",
   "metadata": {},
   "source": [
    "### Create database connection for LLM (create db)"
   ]
  },
  {
   "cell_type": "code",
   "execution_count": 2,
   "id": "5ca769f7-4400-4ab3-a7ad-17839620dac4",
   "metadata": {},
   "outputs": [
    {
     "name": "stdout",
     "output_type": "stream",
     "text": [
      "11 ['Album', 'Artist', 'Customer', 'Employee', 'Genre', 'Invoice', 'InvoiceLine', 'MediaType', 'Playlist', 'PlaylistTrack', 'Track']\n"
     ]
    }
   ],
   "source": [
    "db = SQLDatabase.from_uri(\"sqlite:///chinook.db\", sample_rows_in_table_info = 3)\n",
    "print(len(db.get_usable_table_names()), db.get_usable_table_names())"
   ]
  },
  {
   "cell_type": "markdown",
   "id": "92357280-b0fe-440b-a24b-e7b9464ce15f",
   "metadata": {},
   "source": [
    "### Check Connection"
   ]
  },
  {
   "cell_type": "code",
   "execution_count": 3,
   "id": "c1cd305f-b846-424c-b8a6-f8ec0b576f38",
   "metadata": {},
   "outputs": [
    {
     "name": "stdout",
     "output_type": "stream",
     "text": [
      "[(347,)]\n"
     ]
    }
   ],
   "source": [
    "con = connect(\"chinook.db\")\n",
    "cur = con.execute(\"Select Count(Distinct(AlbumId)) from Album;\")\n",
    "print(cur.fetchall())"
   ]
  },
  {
   "cell_type": "markdown",
   "id": "e7bbb5ea-4e9f-4698-a457-ad913f79e933",
   "metadata": {},
   "source": [
    "## Step 2 - Setup Langchain SQL Chain"
   ]
  },
  {
   "cell_type": "markdown",
   "id": "73cc0378-6c32-4c62-b310-d0fcff386d06",
   "metadata": {},
   "source": [
    "### Import API Key"
   ]
  },
  {
   "cell_type": "code",
   "execution_count": 4,
   "id": "6fb48f56-7d7d-4db5-a88e-95874daaa198",
   "metadata": {},
   "outputs": [],
   "source": [
    "#import os\n",
    "#from dotenv import load_dotenv\n",
    "#load_dotenv()"
   ]
  },
  {
   "cell_type": "code",
   "execution_count": 5,
   "id": "407a4b6c-af07-4e71-bbde-92c910e091ba",
   "metadata": {},
   "outputs": [],
   "source": [
    "#API_KEY = os.getenv(\"OPENAI_API_KEY\")"
   ]
  },
  {
   "cell_type": "markdown",
   "id": "b11ada6b-9710-4cc6-9741-6d93af02d5f9",
   "metadata": {},
   "source": [
    "### Import Packages"
   ]
  },
  {
   "cell_type": "code",
   "execution_count": 6,
   "id": "2842a873-302e-4ec5-b447-c8a80e67be0a",
   "metadata": {},
   "outputs": [],
   "source": [
    "from langchain_ollama.llms import OllamaLLM"
   ]
  },
  {
   "cell_type": "markdown",
   "id": "53570b11-9976-4aa9-935a-4aaf49dd4dd3",
   "metadata": {},
   "source": [
    "### Create an Instance of LLM with configuration & Check (creating llm)"
   ]
  },
  {
   "cell_type": "code",
   "execution_count": 7,
   "id": "5c35a5d4-e7a0-4e2e-a992-874462095aa3",
   "metadata": {},
   "outputs": [
    {
     "data": {
      "text/plain": [
       "OllamaLLM(model='llama3')"
      ]
     },
     "execution_count": 7,
     "metadata": {},
     "output_type": "execute_result"
    }
   ],
   "source": [
    "llm = OllamaLLM(model=\"llama3\")\n",
    "llm"
   ]
  },
  {
   "cell_type": "markdown",
   "id": "3a7ebc10-b480-4b58-9db1-4129c7504141",
   "metadata": {},
   "source": [
    "## Step 3 Setup Agent with Few Shot Examples"
   ]
  },
  {
   "cell_type": "markdown",
   "id": "ee517270-7bf5-421d-b89a-61a857ee02cc",
   "metadata": {},
   "source": [
    "Advantages of SQL Agents:\n",
    "\n",
    "1. Saves tokens - Retrieving only required schema & relevant tables.\n",
    "2. Recover from errors by generating queries, catch the traceback and regenerate correctly\n",
    "3. Chains run on a predefined pattern; Agents is defined by llm; The LLM then chooses the right tools to execute"
   ]
  },
  {
   "cell_type": "markdown",
   "id": "3f381e99-3eee-4337-86b9-e641c8211f96",
   "metadata": {},
   "source": [
    "### Create few Shot Examples"
   ]
  },
  {
   "cell_type": "code",
   "execution_count": 8,
   "id": "737d1976-b72e-4027-9b32-fd9d7f113c42",
   "metadata": {},
   "outputs": [
    {
     "name": "stdout",
     "output_type": "stream",
     "text": [
      "10\n"
     ]
    }
   ],
   "source": [
    "examples = [\n",
    "    {   \"input\": \"List all artists.\", \n",
    "        \"query\": \"SELECT * FROM Artist;\"},\n",
    "    {\n",
    "        \"input\": \"Find all albums for the artist 'AC/DC'.\",\n",
    "        \"query\": \"SELECT * FROM Album WHERE ArtistId = (SELECT ArtistId FROM Artist WHERE Name = 'AC/DC');\",\n",
    "    },\n",
    "    {\n",
    "        \"input\": \"List all tracks in the 'Rock' genre.\",\n",
    "        \"query\": \"SELECT * FROM Track WHERE GenreId = (SELECT GenreId FROM Genre WHERE Name = 'Rock');\",\n",
    "    },\n",
    "    {\n",
    "        \"input\": \"Find the total duration of all tracks.\",\n",
    "        \"query\": \"SELECT SUM(Milliseconds) FROM Track;\",\n",
    "    },\n",
    "    {\n",
    "        \"input\": \"List all customers from Canada.\",\n",
    "        \"query\": \"SELECT * FROM Customer WHERE Country = 'Canada';\",\n",
    "    },\n",
    "    {\n",
    "        \"input\": \"How many tracks are there in the album with ID 5?\",\n",
    "        \"query\": \"SELECT COUNT(*) FROM Track WHERE AlbumId = 5;\",\n",
    "    },\n",
    "    {\n",
    "        \"input\": \"Find the total number of Albums.\",\n",
    "        \"query\": \"SELECT COUNT(DISTINT(AlbumId)) FROM Invoice;\",\n",
    "    },\n",
    "    {\n",
    "        \"input\": \"List all tracks that are longer than 5 minutes.\",\n",
    "        \"query\": \"SELECT * FROM Track WHERE Milliseconds > 300000;\",\n",
    "    },\n",
    "    {\n",
    "        \"input\": \"Who are the top 5 customers by total purchase?\",\n",
    "        \"query\": \"SELECT CustomerId, SUM(Total) AS TotalPurchase FROM Invoice GROUP BY CustomerId ORDER BY TotalPurchase DESC LIMIT 5;\",\n",
    "    },\n",
    "    {\n",
    "        \"input\": \"How many employees are there\",\n",
    "        \"query\": 'SELECT COUNT(*) FROM \"Employee\"',\n",
    "    },\n",
    "]\n",
    "print(len(examples))"
   ]
  },
  {
   "cell_type": "markdown",
   "id": "10272721-b6d5-4fa6-9b57-5448a9fe6032",
   "metadata": {},
   "source": [
    "### Import Embedding Packages"
   ]
  },
  {
   "cell_type": "code",
   "execution_count": 9,
   "id": "052cf651-32cc-41ca-b5a2-3726d6a87040",
   "metadata": {},
   "outputs": [],
   "source": [
    "from langchain_community.embeddings import OllamaEmbeddings"
   ]
  },
  {
   "cell_type": "markdown",
   "id": "ed0796c9-c03b-4176-9028-544979f3f010",
   "metadata": {},
   "source": [
    "### Create an Instance of Embeddings"
   ]
  },
  {
   "cell_type": "code",
   "execution_count": 10,
   "id": "2d08846f-2e3b-44f3-bc90-ff9221fc7c1e",
   "metadata": {},
   "outputs": [],
   "source": [
    "embeddings = (\n",
    "    OllamaEmbeddings(model = \"llama3\")\n",
    ")"
   ]
  },
  {
   "cell_type": "markdown",
   "id": "f7aeacef-a79d-4d04-94cb-05dabc8a68cf",
   "metadata": {},
   "source": [
    "### Sample Embedding"
   ]
  },
  {
   "cell_type": "code",
   "execution_count": 11,
   "id": "68ed05f7-5cd3-489d-99d3-57e038d364c5",
   "metadata": {},
   "outputs": [
    {
     "data": {
      "text/plain": [
       "4096"
      ]
     },
     "execution_count": 11,
     "metadata": {},
     "output_type": "execute_result"
    }
   ],
   "source": [
    "len(embeddings.embed_query(\"Hi\"))"
   ]
  },
  {
   "cell_type": "markdown",
   "id": "b8dc7d71-9682-40f4-803a-45af29f79f2c",
   "metadata": {},
   "source": [
    "### Import Vector Store Packages"
   ]
  },
  {
   "cell_type": "code",
   "execution_count": 12,
   "id": "657b3882-5c08-4b51-83d5-0fd80f9517a1",
   "metadata": {},
   "outputs": [],
   "source": [
    "from langchain_community.vectorstores import FAISS\n",
    "from langchain_core.example_selectors import SemanticSimilarityExampleSelector"
   ]
  },
  {
   "cell_type": "markdown",
   "id": "0c5c4f6a-2326-4555-886b-b7af8546c054",
   "metadata": {},
   "source": [
    "### Embed Examples"
   ]
  },
  {
   "cell_type": "code",
   "execution_count": 13,
   "id": "d103b822-1bdc-43e4-9e6d-50acce11f47b",
   "metadata": {},
   "outputs": [],
   "source": [
    "example_selector = SemanticSimilarityExampleSelector.from_examples(\n",
    "    examples,\n",
    "    embeddings,\n",
    "    FAISS,\n",
    "    k=3,\n",
    "    input_keys=[\"input\"],\n",
    "    )"
   ]
  },
  {
   "cell_type": "markdown",
   "id": "f5343ee4-9917-4351-8c61-9176981c43ac",
   "metadata": {},
   "source": [
    "### Check Similarity of Query in Vector DB"
   ]
  },
  {
   "cell_type": "code",
   "execution_count": 14,
   "id": "abf56983-7cd9-4818-9b55-458a2eca370d",
   "metadata": {},
   "outputs": [
    {
     "name": "stdout",
     "output_type": "stream",
     "text": [
      "[Document(metadata={'input': 'How many tracks are there in the album with ID 5?', 'query': 'SELECT COUNT(*) FROM Track WHERE AlbumId = 5;'}, page_content='How many tracks are there in the album with ID 5?'), Document(metadata={'input': 'List all artists.', 'query': 'SELECT * FROM Artist;'}, page_content='List all artists.'), Document(metadata={'input': 'How many employees are there', 'query': 'SELECT COUNT(*) FROM \"Employee\"'}, page_content='How many employees are there'), Document(metadata={'input': 'Who are the top 5 customers by total purchase?', 'query': 'SELECT CustomerId, SUM(Total) AS TotalPurchase FROM Invoice GROUP BY CustomerId ORDER BY TotalPurchase DESC LIMIT 5;'}, page_content='Who are the top 5 customers by total purchase?')]\n"
     ]
    }
   ],
   "source": [
    "matched_queries = example_selector.vectorstore.search(\"How many arists are there?\", search_type = \"mmr\")\n",
    "print(matched_queries)"
   ]
  },
  {
   "cell_type": "code",
   "execution_count": 15,
   "id": "b42735c0-6c9d-4cd1-b609-c3db3497d18d",
   "metadata": {},
   "outputs": [
    {
     "name": "stdout",
     "output_type": "stream",
     "text": [
      "How many tracks are there in the album with ID 5?\n",
      "List all artists.\n",
      "How many employees are there\n",
      "Who are the top 5 customers by total purchase?\n"
     ]
    }
   ],
   "source": [
    "for doc in matched_queries:\n",
    "    print(doc.page_content)"
   ]
  },
  {
   "cell_type": "code",
   "execution_count": 16,
   "id": "bf16dba2-3b0f-4a8e-88f4-91ef7471abf2",
   "metadata": {},
   "outputs": [],
   "source": [
    "from langchain_community.tools.sql_database.tool import QuerySQLDataBaseTool, InfoSQLDatabaseTool, ListSQLDatabaseTool, QuerySQLCheckerTool"
   ]
  },
  {
   "cell_type": "code",
   "execution_count": 17,
   "id": "0e7239e0-2a60-4ea5-96c6-aa4c60d75e5c",
   "metadata": {},
   "outputs": [],
   "source": [
    "sql_db_query =  QuerySQLDataBaseTool(db = db)\n",
    "sql_db_schema =  InfoSQLDatabaseTool(db = db)\n",
    "sql_db_list_tables =  ListSQLDatabaseTool(db = db)\n",
    "sql_db_query_checker = QuerySQLCheckerTool(db = db, llm = llm)"
   ]
  },
  {
   "cell_type": "code",
   "execution_count": 18,
   "id": "2f197c47-0f94-44b3-bac4-241d9a20e3fc",
   "metadata": {},
   "outputs": [],
   "source": [
    "tools = [sql_db_query, sql_db_schema, sql_db_list_tables, sql_db_query_checker]"
   ]
  },
  {
   "cell_type": "code",
   "execution_count": 19,
   "id": "16083dd0-8e80-40ab-ab0e-10c918ce3020",
   "metadata": {},
   "outputs": [
    {
     "name": "stdout",
     "output_type": "stream",
     "text": [
      "sql_db_query - Execute a SQL query against the database and get back the result..\n",
      "    If the query is not correct, an error message will be returned.\n",
      "    If an error is returned, rewrite the query, check the query, and try again.\n",
      "\n",
      "sql_db_schema - Get the schema and sample rows for the specified SQL tables.\n",
      "\n",
      "sql_db_list_tables - Input is an empty string, output is a comma-separated list of tables in the database.\n",
      "\n",
      "sql_db_query_checker - Use this tool to double check if your query is correct before executing it.\n",
      "    Always use this tool before executing a query with sql_db_query!\n",
      "\n"
     ]
    }
   ],
   "source": [
    "for tool in tools:\n",
    "    print(tool.name + \" - \" + tool.description.strip() + \"\\n\")"
   ]
  },
  {
   "cell_type": "markdown",
   "id": "aff51ddf-dfdd-4f3d-8032-f0d3ede6fa6b",
   "metadata": {},
   "source": [
    "### Create System prefix Prompt"
   ]
  },
  {
   "cell_type": "code",
   "execution_count": 20,
   "id": "27ccc2c4-f5f7-4942-99ff-d791eea685d0",
   "metadata": {},
   "outputs": [],
   "source": [
    "system_prefix = \"\"\"\n",
    "Answer the following questions as best you can. You have access to the following tools:\n",
    "\n",
    "{tools}\n",
    "\n",
    "Use the following format:\n",
    "\n",
    "Question: the input question you must answer\n",
    "Thought: you should always think about what to do\n",
    "Action: the action to take, should be one of [{tool_names}]\n",
    "Action Input: the input to the action\n",
    "Observation: the result of the action\n",
    "... (this Thought/Action/Action Input/Observation can repeat N times)\n",
    "Thought: I now know the final answer\n",
    "Final Answer: the final answer to the original input question\n",
    "\n",
    "Here are some examples of user inputs and their corresponding SQL queries:\n",
    "\n",
    "\"\"\""
   ]
  },
  {
   "cell_type": "code",
   "execution_count": 21,
   "id": "919317ce-a32f-4772-b817-10ea0844947a",
   "metadata": {},
   "outputs": [],
   "source": [
    "suffix = \"\"\"\n",
    "Begin!\n",
    "\n",
    "Question: {input}\n",
    "Thought:{agent_scratchpad}\n",
    "\"\"\""
   ]
  },
  {
   "cell_type": "markdown",
   "id": "1f4de4b3-f28d-4c76-b575-dab0df4578af",
   "metadata": {},
   "source": [
    "### Import Template Packages"
   ]
  },
  {
   "cell_type": "code",
   "execution_count": 22,
   "id": "2b2aebdb-a8fd-455a-9312-4a48e6ae2109",
   "metadata": {},
   "outputs": [],
   "source": [
    "from langchain_core.prompts import FewShotPromptTemplate, PromptTemplate, ChatPromptTemplate\n",
    "from langchain_core.prompts import SystemMessagePromptTemplate"
   ]
  },
  {
   "cell_type": "code",
   "execution_count": 23,
   "id": "5728b2e4-cbc6-4a2b-9ed5-794391d66211",
   "metadata": {},
   "outputs": [],
   "source": [
    "dynamic_few_shot_prompt_template = FewShotPromptTemplate(\n",
    "    example_selector = example_selector,\n",
    "    example_prompt=PromptTemplate.from_template(\n",
    "        \"User input: {input}\\nSQL query: {query}\"\n",
    "    ),\n",
    "    input_variables=[\"input\"],\n",
    "    prefix=system_prefix,\n",
    "    suffix=suffix\n",
    ")"
   ]
  },
  {
   "cell_type": "markdown",
   "id": "808b2b5e-f1b8-42f4-bea2-26923b433865",
   "metadata": {},
   "source": [
    "### Integrate few Shot Prompts with User Inputs"
   ]
  },
  {
   "cell_type": "code",
   "execution_count": 24,
   "id": "4f81e0ee-9d34-4d1f-aa4f-6195c5e95532",
   "metadata": {},
   "outputs": [],
   "source": [
    "from langchain_core.prompts import ChatPromptTemplate, MessagesPlaceholder, SystemMessagePromptTemplate"
   ]
  },
  {
   "cell_type": "code",
   "execution_count": 25,
   "id": "76403520-3509-46ec-bef1-99125f31ce37",
   "metadata": {},
   "outputs": [],
   "source": [
    "full_prompt = ChatPromptTemplate.from_messages(\n",
    "    [\n",
    "        SystemMessagePromptTemplate(prompt=dynamic_few_shot_prompt_template),\n",
    "    ]\n",
    ")"
   ]
  },
  {
   "cell_type": "markdown",
   "id": "3a9487b6-d96c-4d2f-9c73-f142f257c4f8",
   "metadata": {},
   "source": [
    "#### Check Prompt"
   ]
  },
  {
   "cell_type": "code",
   "execution_count": 26,
   "id": "53872ee7-7781-492a-8770-44cb8757bc33",
   "metadata": {},
   "outputs": [
    {
     "name": "stdout",
     "output_type": "stream",
     "text": [
      "{'prompt': FewShotPromptTemplate(input_variables=['agent_scratchpad', 'input', 'tool_names', 'tools'], example_selector=SemanticSimilarityExampleSelector(vectorstore=<langchain_community.vectorstores.faiss.FAISS object at 0x0000024795BBBE90>, k=3, example_keys=None, input_keys=['input'], vectorstore_kwargs=None), example_prompt=PromptTemplate(input_variables=['input', 'query'], template='User input: {input}\\nSQL query: {query}'), suffix='\\nBegin!\\n\\nQuestion: {input}\\nThought:{agent_scratchpad}\\n', prefix='\\nAnswer the following questions as best you can. You have access to the following tools:\\n\\n{tools}\\n\\nUse the following format:\\n\\nQuestion: the input question you must answer\\nThought: you should always think about what to do\\nAction: the action to take, should be one of [{tool_names}]\\nAction Input: the input to the action\\nObservation: the result of the action\\n... (this Thought/Action/Action Input/Observation can repeat N times)\\nThought: I now know the final answer\\nFinal Answer: the final answer to the original input question\\n\\nHere are some examples of user inputs and their corresponding SQL queries:\\n\\n')}\n"
     ]
    }
   ],
   "source": [
    "print(full_prompt.messages[0].to_json()['kwargs'])"
   ]
  },
  {
   "cell_type": "markdown",
   "id": "01545f48-dd4e-4070-bdcd-f4724b03ccd9",
   "metadata": {},
   "source": [
    "### Validate Prompt"
   ]
  },
  {
   "cell_type": "code",
   "execution_count": 27,
   "id": "a85a0324-8a16-4f3e-a03d-cc1621b32c9c",
   "metadata": {},
   "outputs": [
    {
     "name": "stdout",
     "output_type": "stream",
     "text": [
      "System: \n",
      "Answer the following questions as best you can. You have access to the following tools:\n",
      "\n",
      "['sql_db_query - Execute a SQL query against the database and get back the result..\\n    If the query is not correct, an error message will be returned.\\n    If an error is returned, rewrite the query, check the query, and try again.', 'sql_db_schema - Get the schema and sample rows for the specified SQL tables.', 'sql_db_list_tables - Input is an empty string, output is a comma-separated list of tables in the database.', 'sql_db_query_checker - Use this tool to double check if your query is correct before executing it.\\n    Always use this tool before executing a query with sql_db_query!']\n",
      "\n",
      "Use the following format:\n",
      "\n",
      "Question: the input question you must answer\n",
      "Thought: you should always think about what to do\n",
      "Action: the action to take, should be one of [['sql_db_query', 'sql_db_schema', 'sql_db_list_tables', 'sql_db_query_checker']]\n",
      "Action Input: the input to the action\n",
      "Observation: the result of the action\n",
      "... (this Thought/Action/Action Input/Observation can repeat N times)\n",
      "Thought: I now know the final answer\n",
      "Final Answer: the final answer to the original input question\n",
      "\n",
      "Here are some examples of user inputs and their corresponding SQL queries:\n",
      "\n",
      "\n",
      "\n",
      "User input: How many tracks are there in the album with ID 5?\n",
      "SQL query: SELECT COUNT(*) FROM Track WHERE AlbumId = 5;\n",
      "\n",
      "User input: Who are the top 5 customers by total purchase?\n",
      "SQL query: SELECT CustomerId, SUM(Total) AS TotalPurchase FROM Invoice GROUP BY CustomerId ORDER BY TotalPurchase DESC LIMIT 5;\n",
      "\n",
      "User input: Find all albums for the artist 'AC/DC'.\n",
      "SQL query: SELECT * FROM Album WHERE ArtistId = (SELECT ArtistId FROM Artist WHERE Name = 'AC/DC');\n",
      "\n",
      "\n",
      "Begin!\n",
      "\n",
      "Question: How many arists are there?\n",
      "Thought:[]\n",
      "\n"
     ]
    }
   ],
   "source": [
    "prompt_val = full_prompt.invoke(\n",
    "    {\n",
    "        \"input\": \"How many arists are there?\",\n",
    "        \"tool_names\" : [tool.name for tool in tools],\n",
    "        \"tools\" : [tool.name + \" - \" + tool.description.strip() for tool in tools],\n",
    "        \"agent_scratchpad\": [],\n",
    "    }\n",
    ")\n",
    "\n",
    "print(prompt_val.to_string())"
   ]
  },
  {
   "cell_type": "code",
   "execution_count": 28,
   "id": "c2992111-145e-44a3-a625-81073369e37f",
   "metadata": {},
   "outputs": [],
   "source": [
    "from langchain.agents import AgentExecutor, create_react_agent\n",
    "agent = create_react_agent(llm, tools, full_prompt)"
   ]
  },
  {
   "cell_type": "code",
   "execution_count": 29,
   "id": "d695a259-e5de-4757-bfcb-e8644e215cee",
   "metadata": {},
   "outputs": [],
   "source": [
    "agent_executor = AgentExecutor(agent=agent, tools=tools, verbose=True, handle_parsing_errors=True)"
   ]
  },
  {
   "cell_type": "markdown",
   "id": "dd340ab3-13f6-48a4-80d3-f40cbc9e17be",
   "metadata": {},
   "source": [
    "### Execute LLM"
   ]
  },
  {
   "cell_type": "code",
   "execution_count": 30,
   "id": "63d3cde1-1dab-42ef-957a-024fedf2ae06",
   "metadata": {},
   "outputs": [
    {
     "name": "stdout",
     "output_type": "stream",
     "text": [
      "\n",
      "\n",
      "\u001b[1m> Entering new AgentExecutor chain...\u001b[0m\n",
      "\u001b[32;1m\u001b[1;3mAction: sql_db_query\n",
      "Action Input: \"SELECT Country, COUNT(*) AS NumCustomers FROM Customer GROUP BY Country\u001b[0m\u001b[36;1m\u001b[1;3m[('Argentina', 1), ('Australia', 1), ('Austria', 1), ('Belgium', 1), ('Brazil', 5), ('Canada', 8), ('Chile', 1), ('Czech Republic', 2), ('Denmark', 1), ('Finland', 1), ('France', 5), ('Germany', 4), ('Hungary', 1), ('India', 2), ('Ireland', 1), ('Italy', 1), ('Netherlands', 1), ('Norway', 1), ('Poland', 1), ('Portugal', 2), ('Spain', 1), ('Sweden', 1), ('USA', 13), ('United Kingdom', 3)]\u001b[0m\u001b[32;1m\u001b[1;3mAction: sql_db_query\n",
      "Action Input: \"SELECT Country, COUNT(*) AS NumCustomers FROM Customer GROUP BY Country\u001b[0m\u001b[36;1m\u001b[1;3m[('Argentina', 1), ('Australia', 1), ('Austria', 1), ('Belgium', 1), ('Brazil', 5), ('Canada', 8), ('Chile', 1), ('Czech Republic', 2), ('Denmark', 1), ('Finland', 1), ('France', 5), ('Germany', 4), ('Hungary', 1), ('India', 2), ('Ireland', 1), ('Italy', 1), ('Netherlands', 1), ('Norway', 1), ('Poland', 1), ('Portugal', 2), ('Spain', 1), ('Sweden', 1), ('USA', 13), ('United Kingdom', 3)]\u001b[0m\u001b[32;1m\u001b[1;3mFinal Answer: The number of customers with respect to each country is [('Argentina', 1), ('Australia', 1), ('Austria', 1), ('Belgium', 1), ('Brazil', 5), ('Canada', 8), ('Chile', 1), ('Czech Republic', 2), ('Denmark', 1), ('Finland', 1), ('France', 5), ('Germany', 4), ('Hungary', 1), ('India', 2), ('Ireland', 1), ('Italy', 1), ('Netherlands', 1), ('Norway', 1), ('Poland', 1), ('Portugal', 2), ('Spain', 1), ('Sweden', 1), ('USA', 13), ('United Kingdom', 3)].\u001b[0m\n",
      "\n",
      "\u001b[1m> Finished chain.\u001b[0m\n"
     ]
    },
    {
     "data": {
      "text/plain": [
       "{'input': 'Provide the number of customers with respect to each country.',\n",
       " 'output': \"The number of customers with respect to each country is [('Argentina', 1), ('Australia', 1), ('Austria', 1), ('Belgium', 1), ('Brazil', 5), ('Canada', 8), ('Chile', 1), ('Czech Republic', 2), ('Denmark', 1), ('Finland', 1), ('France', 5), ('Germany', 4), ('Hungary', 1), ('India', 2), ('Ireland', 1), ('Italy', 1), ('Netherlands', 1), ('Norway', 1), ('Poland', 1), ('Portugal', 2), ('Spain', 1), ('Sweden', 1), ('USA', 13), ('United Kingdom', 3)].\"}"
      ]
     },
     "execution_count": 30,
     "metadata": {},
     "output_type": "execute_result"
    }
   ],
   "source": [
    "agent_executor.invoke({\"input\": \"Provide the number of customers with respect to each country.\"})"
   ]
  },
  {
   "cell_type": "markdown",
   "id": "bff6ca04-f58b-44ef-b2b7-f09f9d9dbb12",
   "metadata": {},
   "source": [
    "### Execute LLM Agent with Debug"
   ]
  },
  {
   "cell_type": "code",
   "execution_count": 31,
   "id": "96487607-0fb4-41f7-8239-2351a4fda503",
   "metadata": {},
   "outputs": [],
   "source": [
    "#import langchain\n",
    "#langchain.debug = True"
   ]
  },
  {
   "cell_type": "code",
   "execution_count": 32,
   "id": "ffd6e5a7-6b8d-4fcc-8973-2d2f0e7723cf",
   "metadata": {
    "scrolled": true
   },
   "outputs": [],
   "source": [
    "#agent_executor.invoke({\"input\": \"Provide the number of customers with respect to each country.\"})"
   ]
  },
  {
   "cell_type": "markdown",
   "id": "c68b24e7-0cb3-4bb4-9da3-5e015025d92f",
   "metadata": {},
   "source": [
    "# END - Next Topic Custom Agent"
   ]
  }
 ],
 "metadata": {
  "kernelspec": {
   "display_name": "Python 3 (ipykernel)",
   "language": "python",
   "name": "python3"
  },
  "language_info": {
   "codemirror_mode": {
    "name": "ipython",
    "version": 3
   },
   "file_extension": ".py",
   "mimetype": "text/x-python",
   "name": "python",
   "nbconvert_exporter": "python",
   "pygments_lexer": "ipython3",
   "version": "3.11.9"
  }
 },
 "nbformat": 4,
 "nbformat_minor": 5
}
