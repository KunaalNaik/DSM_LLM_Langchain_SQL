{
 "cells": [
  {
   "cell_type": "markdown",
   "id": "d7daadd9-52db-4098-a2d6-b17e01eb967f",
   "metadata": {},
   "source": [
    "# Referances\n",
    "- https://medium.com/@researchgraph/how-to-run-ollama-on-windows-8a1622525ada\n",
    "- https://github.com/RamiKrispin/ollama-poc/blob/main/ollama-poc.ipynb"
   ]
  },
  {
   "cell_type": "code",
   "execution_count": 4,
   "id": "c9015eb0-0121-4c3e-968c-191a876188d9",
   "metadata": {},
   "outputs": [],
   "source": [
    "import ollama"
   ]
  },
  {
   "cell_type": "code",
   "execution_count": 6,
   "id": "b1d6579e-2253-4641-bd0b-2a3786e574f5",
   "metadata": {
    "scrolled": true
   },
   "outputs": [
    {
     "name": "stdout",
     "output_type": "stream",
     "text": [
      "The color of the sky can appear different depending on various factors, such as weather conditions and time of day. However, under normal clear sunny conditions during a midday when there are no clouds in sight, you may observe that the sky appears predominantly blue due to Rayleigh scattering - an optical effect caused by particles smaller than the wavelengths of visible light (like gas molecules).\n",
      "\n",
      "This phenomenon happens because as sunlight or any white light travels through Earth'nera’ atmosphere, it interacts with its various gases and tiny dust particles. This causes shorter blue color waves to scatter in all directions more frequently than the other colors like red/orange etc., giving us our beautifully colored sky at different times of day. When this scattered sunlight enters your eyes, you perceive a light blue or white sky from above because we look up towards it and see these countless tiny particles that have been illuminated by Sun in all directions due to the scattering effect.\n",
      "\n",
      "Moreover, under certain circumstances like when there's dust or other larger particulates suspended within our atmosphere (like after a volcanic eruption), this can sometimes give rise to unusual colors seen at sunrise and sunset - often red/orange-pink as these particles are much bigger than the wavelength of light, thus scattering longer waves more efficiently. Hence why during such events we see beautiful rosy skies or even orange ones when particularly intense dust rises into our atmosphere from volcanic eruptions. This effect is known as Mie scattering which happens due to particles being larger than the wavelengths of light they interact with, and it's responsible for why sunsets can appear red/orange-pink during these events - but does not impact daytime sky colors significantly unless there are substantial dust or ash particulates.\n",
      "\n",
      "In summary: Rayleigh scattering makes us see a blue sky most days because shorter (blue) wavelength light is scattered more than the other visible waves, while Mie scattering happens when larger particles like volcanic ashes interact with sunlight which can produce different colors in our atmosphere under those conditions. However, even though these effects influence what we perceive and see at times of day or during specific atmospheric events such as a dust-filled sky after an eruption, the blue color is still largely due to Rayleigh scattering where molecules in Earth's atmosphere cause this selective wavelength reflection.\n"
     ]
    }
   ],
   "source": [
    "response = ollama.chat(model='phi3', messages=[\n",
    "  {\n",
    "    'role': 'user',\n",
    "    'content': 'Why is the sky blue?',\n",
    "  },\n",
    "])\n",
    "print(response['message']['content'])"
   ]
  },
  {
   "cell_type": "markdown",
   "id": "85e80321-b4b9-472c-9ec4-2300e1e220c8",
   "metadata": {},
   "source": [
    "# Import Ollama Through Langchain"
   ]
  },
  {
   "cell_type": "code",
   "execution_count": 1,
   "id": "ff2888f0-bf35-4364-8a34-9c1931140c41",
   "metadata": {},
   "outputs": [],
   "source": [
    "from langchain_ollama.llms import OllamaLLM"
   ]
  },
  {
   "cell_type": "code",
   "execution_count": 2,
   "id": "24f2bcd4-5151-4d3f-99c9-193b225168f6",
   "metadata": {},
   "outputs": [],
   "source": [
    "llm = OllamaLLM(model=\"mistral\")  # phi3 , mistral"
   ]
  },
  {
   "cell_type": "code",
   "execution_count": 5,
   "id": "2612d6f9-6cc1-4bc6-915b-9911723a967c",
   "metadata": {},
   "outputs": [
    {
     "data": {
      "text/plain": [
       "' Red, in terms of color theory, is one of the three primary colors (along with blue and yellow) that are fundamental to the mixing of pigments or light. In the RGB color model used for digital images, red represents one of the three primary colors, along with green and blue, and it corresponds to a wavelength range of approximately 630-740 nanometers. However, if you meant something else by \"Red,\" such as Red Hat Linux or Red Bull energy drink, I would need more context to provide an accurate response.'"
      ]
     },
     "execution_count": 5,
     "metadata": {},
     "output_type": "execute_result"
    }
   ],
   "source": [
    "llm.invoke(\"What is Red?\")"
   ]
  },
  {
   "cell_type": "code",
   "execution_count": 3,
   "id": "4ff88fbb-ee72-466c-b6fd-3c9584a40e4e",
   "metadata": {},
   "outputs": [
    {
     "name": "stdout",
     "output_type": "stream",
     "text": [
      " Hello! I'm an artificial intelligence, so I don't have feelings, but I'm here to help answer your questions and provide information. How can I assist you today?\n",
      "\n",
      "To make our conversation more engaging, let me tell you a little about myself: I'm named after the famous English mathematician and computer scientist Alan Turing, who made significant contributions to computer science and artificial intelligence. As his namesake, my goal is to help humanity by understanding and responding to a wide range of questions and requests, just like he envisioned in his groundbreaking work.\n",
      "\n",
      "Let's get started with your question or problem!"
     ]
    }
   ],
   "source": [
    "for chunk in llm.stream(\"Hi how are you?\"):\n",
    "    print(chunk, end = \"\")"
   ]
  },
  {
   "cell_type": "code",
   "execution_count": null,
   "id": "5833bae1-e8bb-4ad2-b3a7-786d29ec0406",
   "metadata": {},
   "outputs": [],
   "source": []
  }
 ],
 "metadata": {
  "kernelspec": {
   "display_name": "Python 3 (ipykernel)",
   "language": "python",
   "name": "python3"
  },
  "language_info": {
   "codemirror_mode": {
    "name": "ipython",
    "version": 3
   },
   "file_extension": ".py",
   "mimetype": "text/x-python",
   "name": "python",
   "nbconvert_exporter": "python",
   "pygments_lexer": "ipython3",
   "version": "3.11.9"
  }
 },
 "nbformat": 4,
 "nbformat_minor": 5
}
